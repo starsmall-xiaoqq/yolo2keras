{
 "cells": [
  {
   "cell_type": "code",
   "execution_count": null,
   "metadata": {},
   "outputs": [],
   "source": [
    "import argparse\n",
    "import os\n",
    "import numpy as np\n",
    "from preprocessing import parse_annotation\n",
    "from frontend import YOLO\n",
    "import json\n",
    "\n",
    "os.environ[\"CUDA_DEVICE_ORDER\"]=\"PCI_BUS_ID\"\n",
    "os.environ[\"CUDA_VISIBLE_DEVICES\"]=\"0,1,2,3\""
   ]
  },
  {
   "cell_type": "code",
   "execution_count": null,
   "metadata": {
    "collapsed": true
   },
   "outputs": [],
   "source": [
    "config_path = \"test/config.json\"\n",
    "with open(config_path) as config_buffer:    \n",
    "    config = json.loads(config_buffer.read())"
   ]
  },
  {
   "cell_type": "code",
   "execution_count": null,
   "metadata": {},
   "outputs": [],
   "source": [
    "yolo = YOLO(architecture        = config['model']['architecture'],\n",
    "           input_size          = config['model']['input_size'], \n",
    "           labels              = config['model']['labels'], \n",
    "           max_box_per_image   = config['model']['max_box_per_image'],\n",
    "           anchors             = config['model']['anchors'])\n",
    "###############################\n",
    "#   Load the pretrained weights (if any) \n",
    "############################### \n",
    "if os.path.exists(config['train']['pretrained_weights']):\n",
    "    print (\"Loading pre-trained weights in {}\".format(config['train']['pretrained_weights']))\n",
    "    yolo.load_weights(config['train']['pretrained_weights'])"
   ]
  },
  {
   "cell_type": "code",
   "execution_count": null,
   "metadata": {},
   "outputs": [],
   "source": [
    "###############################\n",
    "#   Start the test process \n",
    "###############################\n",
    "image = cv2.imread('examples/bloodcell/JPEGImages/BloodImage_00032.jpg')\n",
    "\n",
    "plt.figure(figsize=(10,10))\n",
    "\n",
    "input_image = cv2.resize(image, (416, 416))\n",
    "input_image = input_image / 255.\n",
    "input_image = input_image[:,:,::-1]\n",
    "input_image = np.expand_dims(input_image, 0)\n",
    "\n",
    "boxes = yolo.predict([input_image, dummy_array])\n",
    "image = draw_boxes(image, boxes, labels=LABELS)\n",
    "\n",
    "plt.imshow(image[:,:,::-1]); plt.show()"
   ]
  },
  {
   "cell_type": "code",
   "execution_count": null,
   "metadata": {
    "collapsed": true
   },
   "outputs": [],
   "source": []
  }
 ],
 "metadata": {
  "kernelspec": {
   "display_name": "Python 3",
   "language": "python",
   "name": "python3"
  },
  "language_info": {
   "codemirror_mode": {
    "name": "ipython",
    "version": 3
   },
   "file_extension": ".py",
   "mimetype": "text/x-python",
   "name": "python",
   "nbconvert_exporter": "python",
   "pygments_lexer": "ipython3",
   "version": "3.6.3"
  }
 },
 "nbformat": 4,
 "nbformat_minor": 2
}
